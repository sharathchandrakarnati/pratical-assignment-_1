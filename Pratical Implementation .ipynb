{
 "cells": [
  {
   "cell_type": "code",
   "execution_count": 1,
   "id": "a2328ccd",
   "metadata": {},
   "outputs": [
    {
     "name": "stdout",
     "output_type": "stream",
     "text": [
      "Hellow python \n"
     ]
    }
   ],
   "source": [
    "##1.Write a Python program to print \"Hello Python\"?\n",
    "print(\"Hellow python \")\n"
   ]
  },
  {
   "cell_type": "code",
   "execution_count": 2,
   "id": "3540fe91",
   "metadata": {},
   "outputs": [
    {
     "name": "stdout",
     "output_type": "stream",
     "text": [
      "30\n",
      "0.5\n"
     ]
    }
   ],
   "source": [
    "##2.Write a Python program to do arithmetical operations addition and division.?\n",
    "a = 10 \n",
    "b = 20 \n",
    "print(a+b)\n",
    "print(a/b)"
   ]
  },
  {
   "cell_type": "code",
   "execution_count": 3,
   "id": "329102e2",
   "metadata": {},
   "outputs": [
    {
     "name": "stdout",
     "output_type": "stream",
     "text": [
      "The area of the triangle is 14.70\n"
     ]
    }
   ],
   "source": [
    "#3.Write a Python program to find the area of a triangle\n",
    "a = 5\n",
    "b = 6\n",
    "c = 7\n",
    "\n",
    "s = (a + b + c) / 2\n",
    "area = (s*(s-a)*(s-b)*(s-c)) ** 0.5\n",
    "\n",
    "print('The area of the triangle is %0.2f' %area)"
   ]
  },
  {
   "cell_type": "code",
   "execution_count": 4,
   "id": "fa7079a8",
   "metadata": {},
   "outputs": [
    {
     "name": "stdout",
     "output_type": "stream",
     "text": [
      "The value of x 10 \n",
      "The value of y 5\n"
     ]
    }
   ],
   "source": [
    "x = 5\n",
    "y = 10\n",
    "\n",
    "\n",
    "\n",
    "\n",
    "swap = x\n",
    "x = y\n",
    "y = swap\n",
    "\n",
    "print('The value of x {} '.format(x))\n",
    "print('The value of y {}'.format(y))\n"
   ]
  },
  {
   "cell_type": "code",
   "execution_count": 5,
   "id": "1071c631",
   "metadata": {},
   "outputs": [],
   "source": [
    "##5.Write a Python program to generate a random number\n",
    "\n"
   ]
  }
 ],
 "metadata": {
  "kernelspec": {
   "display_name": "Python 3 (ipykernel)",
   "language": "python",
   "name": "python3"
  },
  "language_info": {
   "codemirror_mode": {
    "name": "ipython",
    "version": 3
   },
   "file_extension": ".py",
   "mimetype": "text/x-python",
   "name": "python",
   "nbconvert_exporter": "python",
   "pygments_lexer": "ipython3",
   "version": "3.9.12"
  }
 },
 "nbformat": 4,
 "nbformat_minor": 5
}
